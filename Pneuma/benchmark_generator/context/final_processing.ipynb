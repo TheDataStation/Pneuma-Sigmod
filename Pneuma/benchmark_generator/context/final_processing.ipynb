{
 "cells": [
  {
   "cell_type": "code",
   "execution_count": null,
   "metadata": {},
   "outputs": [],
   "source": [
    "from utils.jsonl import read_jsonl, write_jsonl"
   ]
  },
  {
   "cell_type": "code",
   "execution_count": 6,
   "metadata": {},
   "outputs": [],
   "source": [
    "bx_name = f\"bx_adventure.jsonl\"  # Adjust\n",
    "data = read_jsonl(bx_name)\n",
    "\n",
    "for datum in data:\n",
    "    question = datum[\"question_bx2\"]\n",
    "    if \"Rephrased Question 1\" in question:\n",
    "        extracted_question = question.splitlines()[2].split(\"Rephrased Question 1:\")[-1]\n",
    "        datum[\"question_bx2\"] = extracted_question\n",
    "    elif \"Rephrased Question: \" in question:\n",
    "        extracted_question = question.split(\"Rephrased Question: \")[-1]\n",
    "        datum[\"question_bx2\"] = extracted_question\n",
    "write_jsonl(data, bx_name)"
   ]
  }
 ],
 "metadata": {
  "kernelspec": {
   "display_name": "base",
   "language": "python",
   "name": "python3"
  },
  "language_info": {
   "codemirror_mode": {
    "name": "ipython",
    "version": 3
   },
   "file_extension": ".py",
   "mimetype": "text/x-python",
   "name": "python",
   "nbconvert_exporter": "python",
   "pygments_lexer": "ipython3",
   "version": "3.12.2"
  }
 },
 "nbformat": 4,
 "nbformat_minor": 2
}
